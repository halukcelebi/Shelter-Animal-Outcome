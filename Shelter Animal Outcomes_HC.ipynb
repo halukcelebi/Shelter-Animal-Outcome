{
 "cells": [
  {
   "cell_type": "code",
   "execution_count": null,
   "id": "f3e68800",
   "metadata": {},
   "outputs": [],
   "source": [
    "#project website: https://www.kaggle.com/competitions/shelter-animal-outcomes/overview"
   ]
  },
  {
   "cell_type": "code",
   "execution_count": 1,
   "id": "75f90eac",
   "metadata": {},
   "outputs": [],
   "source": [
    "import pandas as pd\n",
    "import numpy as np"
   ]
  },
  {
   "cell_type": "code",
   "execution_count": 2,
   "id": "c6ceeeba",
   "metadata": {},
   "outputs": [],
   "source": [
    "df = pd.read_csv('train.csv')"
   ]
  },
  {
   "cell_type": "markdown",
   "id": "9ff7d12e",
   "metadata": {},
   "source": [
    "## EDA"
   ]
  },
  {
   "cell_type": "code",
   "execution_count": 3,
   "id": "4d8aa393",
   "metadata": {},
   "outputs": [
    {
     "data": {
      "text/html": [
       "<div>\n",
       "<style scoped>\n",
       "    .dataframe tbody tr th:only-of-type {\n",
       "        vertical-align: middle;\n",
       "    }\n",
       "\n",
       "    .dataframe tbody tr th {\n",
       "        vertical-align: top;\n",
       "    }\n",
       "\n",
       "    .dataframe thead th {\n",
       "        text-align: right;\n",
       "    }\n",
       "</style>\n",
       "<table border=\"1\" class=\"dataframe\">\n",
       "  <thead>\n",
       "    <tr style=\"text-align: right;\">\n",
       "      <th></th>\n",
       "      <th>AnimalID</th>\n",
       "      <th>Name</th>\n",
       "      <th>DateTime</th>\n",
       "      <th>OutcomeType</th>\n",
       "      <th>OutcomeSubtype</th>\n",
       "      <th>AnimalType</th>\n",
       "      <th>SexuponOutcome</th>\n",
       "      <th>AgeuponOutcome</th>\n",
       "      <th>Breed</th>\n",
       "      <th>Color</th>\n",
       "    </tr>\n",
       "  </thead>\n",
       "  <tbody>\n",
       "    <tr>\n",
       "      <th>0</th>\n",
       "      <td>A671945</td>\n",
       "      <td>Hambone</td>\n",
       "      <td>2014-02-12 18:22:00</td>\n",
       "      <td>Return_to_owner</td>\n",
       "      <td>NaN</td>\n",
       "      <td>Dog</td>\n",
       "      <td>Neutered Male</td>\n",
       "      <td>1 year</td>\n",
       "      <td>Shetland Sheepdog Mix</td>\n",
       "      <td>Brown/White</td>\n",
       "    </tr>\n",
       "    <tr>\n",
       "      <th>1</th>\n",
       "      <td>A656520</td>\n",
       "      <td>Emily</td>\n",
       "      <td>2013-10-13 12:44:00</td>\n",
       "      <td>Euthanasia</td>\n",
       "      <td>Suffering</td>\n",
       "      <td>Cat</td>\n",
       "      <td>Spayed Female</td>\n",
       "      <td>1 year</td>\n",
       "      <td>Domestic Shorthair Mix</td>\n",
       "      <td>Cream Tabby</td>\n",
       "    </tr>\n",
       "    <tr>\n",
       "      <th>2</th>\n",
       "      <td>A686464</td>\n",
       "      <td>Pearce</td>\n",
       "      <td>2015-01-31 12:28:00</td>\n",
       "      <td>Adoption</td>\n",
       "      <td>Foster</td>\n",
       "      <td>Dog</td>\n",
       "      <td>Neutered Male</td>\n",
       "      <td>2 years</td>\n",
       "      <td>Pit Bull Mix</td>\n",
       "      <td>Blue/White</td>\n",
       "    </tr>\n",
       "    <tr>\n",
       "      <th>3</th>\n",
       "      <td>A683430</td>\n",
       "      <td>NaN</td>\n",
       "      <td>2014-07-11 19:09:00</td>\n",
       "      <td>Transfer</td>\n",
       "      <td>Partner</td>\n",
       "      <td>Cat</td>\n",
       "      <td>Intact Male</td>\n",
       "      <td>3 weeks</td>\n",
       "      <td>Domestic Shorthair Mix</td>\n",
       "      <td>Blue Cream</td>\n",
       "    </tr>\n",
       "    <tr>\n",
       "      <th>4</th>\n",
       "      <td>A667013</td>\n",
       "      <td>NaN</td>\n",
       "      <td>2013-11-15 12:52:00</td>\n",
       "      <td>Transfer</td>\n",
       "      <td>Partner</td>\n",
       "      <td>Dog</td>\n",
       "      <td>Neutered Male</td>\n",
       "      <td>2 years</td>\n",
       "      <td>Lhasa Apso/Miniature Poodle</td>\n",
       "      <td>Tan</td>\n",
       "    </tr>\n",
       "    <tr>\n",
       "      <th>...</th>\n",
       "      <td>...</td>\n",
       "      <td>...</td>\n",
       "      <td>...</td>\n",
       "      <td>...</td>\n",
       "      <td>...</td>\n",
       "      <td>...</td>\n",
       "      <td>...</td>\n",
       "      <td>...</td>\n",
       "      <td>...</td>\n",
       "      <td>...</td>\n",
       "    </tr>\n",
       "    <tr>\n",
       "      <th>26724</th>\n",
       "      <td>A702446</td>\n",
       "      <td>NaN</td>\n",
       "      <td>2015-05-14 11:56:00</td>\n",
       "      <td>Transfer</td>\n",
       "      <td>Partner</td>\n",
       "      <td>Cat</td>\n",
       "      <td>Intact Male</td>\n",
       "      <td>1 month</td>\n",
       "      <td>Domestic Shorthair Mix</td>\n",
       "      <td>Brown Tabby/White</td>\n",
       "    </tr>\n",
       "    <tr>\n",
       "      <th>26725</th>\n",
       "      <td>A718934</td>\n",
       "      <td>NaN</td>\n",
       "      <td>2016-01-20 18:59:00</td>\n",
       "      <td>Transfer</td>\n",
       "      <td>SCRP</td>\n",
       "      <td>Cat</td>\n",
       "      <td>Spayed Female</td>\n",
       "      <td>3 months</td>\n",
       "      <td>Domestic Shorthair Mix</td>\n",
       "      <td>Brown Tabby</td>\n",
       "    </tr>\n",
       "    <tr>\n",
       "      <th>26726</th>\n",
       "      <td>A698128</td>\n",
       "      <td>Zeus</td>\n",
       "      <td>2015-03-09 13:33:00</td>\n",
       "      <td>Adoption</td>\n",
       "      <td>NaN</td>\n",
       "      <td>Dog</td>\n",
       "      <td>Neutered Male</td>\n",
       "      <td>4 years</td>\n",
       "      <td>Old English Bulldog Mix</td>\n",
       "      <td>White/Tan</td>\n",
       "    </tr>\n",
       "    <tr>\n",
       "      <th>26727</th>\n",
       "      <td>A677478</td>\n",
       "      <td>NaN</td>\n",
       "      <td>2014-04-27 12:22:00</td>\n",
       "      <td>Transfer</td>\n",
       "      <td>Partner</td>\n",
       "      <td>Cat</td>\n",
       "      <td>Intact Male</td>\n",
       "      <td>4 weeks</td>\n",
       "      <td>Domestic Shorthair Mix</td>\n",
       "      <td>Black</td>\n",
       "    </tr>\n",
       "    <tr>\n",
       "      <th>26728</th>\n",
       "      <td>A706629</td>\n",
       "      <td>NaN</td>\n",
       "      <td>2015-07-02 09:00:00</td>\n",
       "      <td>Transfer</td>\n",
       "      <td>SCRP</td>\n",
       "      <td>Cat</td>\n",
       "      <td>Intact Male</td>\n",
       "      <td>1 year</td>\n",
       "      <td>Domestic Shorthair Mix</td>\n",
       "      <td>Brown Tabby/White</td>\n",
       "    </tr>\n",
       "  </tbody>\n",
       "</table>\n",
       "<p>26729 rows × 10 columns</p>\n",
       "</div>"
      ],
      "text/plain": [
       "      AnimalID     Name             DateTime      OutcomeType OutcomeSubtype  \\\n",
       "0      A671945  Hambone  2014-02-12 18:22:00  Return_to_owner            NaN   \n",
       "1      A656520    Emily  2013-10-13 12:44:00       Euthanasia      Suffering   \n",
       "2      A686464   Pearce  2015-01-31 12:28:00         Adoption         Foster   \n",
       "3      A683430      NaN  2014-07-11 19:09:00         Transfer        Partner   \n",
       "4      A667013      NaN  2013-11-15 12:52:00         Transfer        Partner   \n",
       "...        ...      ...                  ...              ...            ...   \n",
       "26724  A702446      NaN  2015-05-14 11:56:00         Transfer        Partner   \n",
       "26725  A718934      NaN  2016-01-20 18:59:00         Transfer           SCRP   \n",
       "26726  A698128     Zeus  2015-03-09 13:33:00         Adoption            NaN   \n",
       "26727  A677478      NaN  2014-04-27 12:22:00         Transfer        Partner   \n",
       "26728  A706629      NaN  2015-07-02 09:00:00         Transfer           SCRP   \n",
       "\n",
       "      AnimalType SexuponOutcome AgeuponOutcome                        Breed  \\\n",
       "0            Dog  Neutered Male         1 year        Shetland Sheepdog Mix   \n",
       "1            Cat  Spayed Female         1 year       Domestic Shorthair Mix   \n",
       "2            Dog  Neutered Male        2 years                 Pit Bull Mix   \n",
       "3            Cat    Intact Male        3 weeks       Domestic Shorthair Mix   \n",
       "4            Dog  Neutered Male        2 years  Lhasa Apso/Miniature Poodle   \n",
       "...          ...            ...            ...                          ...   \n",
       "26724        Cat    Intact Male        1 month       Domestic Shorthair Mix   \n",
       "26725        Cat  Spayed Female       3 months       Domestic Shorthair Mix   \n",
       "26726        Dog  Neutered Male        4 years      Old English Bulldog Mix   \n",
       "26727        Cat    Intact Male        4 weeks       Domestic Shorthair Mix   \n",
       "26728        Cat    Intact Male         1 year       Domestic Shorthair Mix   \n",
       "\n",
       "                   Color  \n",
       "0            Brown/White  \n",
       "1            Cream Tabby  \n",
       "2             Blue/White  \n",
       "3             Blue Cream  \n",
       "4                    Tan  \n",
       "...                  ...  \n",
       "26724  Brown Tabby/White  \n",
       "26725        Brown Tabby  \n",
       "26726          White/Tan  \n",
       "26727              Black  \n",
       "26728  Brown Tabby/White  \n",
       "\n",
       "[26729 rows x 10 columns]"
      ]
     },
     "execution_count": 3,
     "metadata": {},
     "output_type": "execute_result"
    }
   ],
   "source": [
    "df"
   ]
  },
  {
   "cell_type": "markdown",
   "id": "d1ef6df7",
   "metadata": {},
   "source": [
    "## DATA CLEANING MANIPULATION"
   ]
  },
  {
   "cell_type": "code",
   "execution_count": 4,
   "id": "b1d56ac7",
   "metadata": {},
   "outputs": [],
   "source": [
    "df.drop('AnimalID',axis=1, inplace = True)"
   ]
  },
  {
   "cell_type": "code",
   "execution_count": 5,
   "id": "c44f5642",
   "metadata": {},
   "outputs": [],
   "source": [
    "df.drop('DateTime',axis=1, inplace = True)"
   ]
  },
  {
   "cell_type": "code",
   "execution_count": 6,
   "id": "02fc4cbf",
   "metadata": {},
   "outputs": [],
   "source": [
    "df['Name'] = df['Name'].apply(lambda x: 1 if pd.notna(x) else 0)"
   ]
  },
  {
   "cell_type": "code",
   "execution_count": 7,
   "id": "b8bd7459",
   "metadata": {},
   "outputs": [
    {
     "data": {
      "text/plain": [
       "Name                  0\n",
       "OutcomeType           0\n",
       "OutcomeSubtype    13612\n",
       "AnimalType            0\n",
       "SexuponOutcome        1\n",
       "AgeuponOutcome       18\n",
       "Breed                 0\n",
       "Color                 0\n",
       "dtype: int64"
      ]
     },
     "execution_count": 7,
     "metadata": {},
     "output_type": "execute_result"
    }
   ],
   "source": [
    "df.isnull().sum()"
   ]
  },
  {
   "cell_type": "code",
   "execution_count": 8,
   "id": "4caa2263",
   "metadata": {},
   "outputs": [
    {
     "name": "stdout",
     "output_type": "stream",
     "text": [
      "<class 'pandas.core.frame.DataFrame'>\n",
      "RangeIndex: 26729 entries, 0 to 26728\n",
      "Data columns (total 8 columns):\n",
      " #   Column          Non-Null Count  Dtype \n",
      "---  ------          --------------  ----- \n",
      " 0   Name            26729 non-null  int64 \n",
      " 1   OutcomeType     26729 non-null  object\n",
      " 2   OutcomeSubtype  13117 non-null  object\n",
      " 3   AnimalType      26729 non-null  object\n",
      " 4   SexuponOutcome  26728 non-null  object\n",
      " 5   AgeuponOutcome  26711 non-null  object\n",
      " 6   Breed           26729 non-null  object\n",
      " 7   Color           26729 non-null  object\n",
      "dtypes: int64(1), object(7)\n",
      "memory usage: 1.6+ MB\n"
     ]
    }
   ],
   "source": [
    "df.info()"
   ]
  },
  {
   "cell_type": "code",
   "execution_count": 9,
   "id": "4bb66a24",
   "metadata": {},
   "outputs": [
    {
     "data": {
      "text/plain": [
       "array([nan, 'Suffering', 'Foster', 'Partner', 'Offsite', 'SCRP',\n",
       "       'Aggressive', 'Behavior', 'Rabies Risk', 'Medical', 'In Kennel',\n",
       "       'In Foster', 'Barn', 'Court/Investigation', 'Enroute', 'At Vet',\n",
       "       'In Surgery'], dtype=object)"
      ]
     },
     "execution_count": 9,
     "metadata": {},
     "output_type": "execute_result"
    }
   ],
   "source": [
    "df['OutcomeSubtype'].unique()"
   ]
  },
  {
   "cell_type": "code",
   "execution_count": 10,
   "id": "fd30d6ad",
   "metadata": {},
   "outputs": [],
   "source": [
    "df['OutcomeSubtype'] = df['OutcomeSubtype'].fillna('healthy')"
   ]
  },
  {
   "cell_type": "code",
   "execution_count": 11,
   "id": "ea66aec7",
   "metadata": {},
   "outputs": [],
   "source": [
    "df['OutcomeSubtype'] = df['OutcomeSubtype'].replace(['Suffering', 'An Vet', 'Medical', 'In Surgery'], 'unhealthy')"
   ]
  },
  {
   "cell_type": "code",
   "execution_count": 12,
   "id": "92aaf11c",
   "metadata": {},
   "outputs": [
    {
     "data": {
      "text/plain": [
       "array(['Neutered Male', 'Spayed Female', 'Intact Male', 'Intact Female',\n",
       "       'Unknown', nan], dtype=object)"
      ]
     },
     "execution_count": 12,
     "metadata": {},
     "output_type": "execute_result"
    }
   ],
   "source": [
    "df['SexuponOutcome'].unique()"
   ]
  },
  {
   "cell_type": "code",
   "execution_count": 13,
   "id": "60765070",
   "metadata": {},
   "outputs": [],
   "source": [
    "df['SexuponOutcome'] = df['SexuponOutcome'].fillna(df['SexuponOutcome'].mode()[0])"
   ]
  },
  {
   "cell_type": "code",
   "execution_count": 14,
   "id": "470babe6",
   "metadata": {},
   "outputs": [
    {
     "data": {
      "text/plain": [
       "<Axes: xlabel='SexuponOutcome'>"
      ]
     },
     "execution_count": 14,
     "metadata": {},
     "output_type": "execute_result"
    },
    {
     "data": {
      "image/png": "[encoded data removed]",
      "text/plain": [
       "<Figure size 640x480 with 1 Axes>"
      ]
     },
     "metadata": {},
     "output_type": "display_data"
    }
   ],
   "source": [
    "df['SexuponOutcome'].value_counts().plot.bar()"
   ]
  },
  {
   "cell_type": "code",
   "execution_count": 15,
   "id": "be316af1",
   "metadata": {},
   "outputs": [
    {
     "data": {
      "text/plain": [
       "<Axes: xlabel='AgeuponOutcome'>"
      ]
     },
     "execution_count": 15,
     "metadata": {},
     "output_type": "execute_result"
    },
    {
     "data": {
      "image/png": "[encoded data removed]",
      "text/plain": [
       "<Figure size 640x480 with 1 Axes>"
      ]
     },
     "metadata": {},
     "output_type": "display_data"
    }
   ],
   "source": [
    "df['AgeuponOutcome'].value_counts().plot.bar()"
   ]
  },
  {
   "cell_type": "code",
   "execution_count": 16,
   "id": "d8c21063",
   "metadata": {},
   "outputs": [],
   "source": [
    "df['AgeuponOutcome'] = df['AgeuponOutcome'].fillna(df['AgeuponOutcome'].mode()[0])"
   ]
  },
  {
   "cell_type": "code",
   "execution_count": 17,
   "id": "9e04ad0c",
   "metadata": {},
   "outputs": [
    {
     "data": {
      "text/plain": [
       "array(['1 year', '2 years', '3 weeks', '1 month', '5 months', '4 years',\n",
       "       '3 months', '2 weeks', '2 months', '10 months', '6 months',\n",
       "       '5 years', '7 years', '3 years', '4 months', '12 years', '9 years',\n",
       "       '6 years', '1 weeks', '11 years', '4 weeks', '7 months', '8 years',\n",
       "       '11 months', '4 days', '9 months', '8 months', '15 years',\n",
       "       '10 years', '1 week', '0 years', '14 years', '3 days', '6 days',\n",
       "       '5 days', '5 weeks', '2 days', '16 years', '1 day', '13 years',\n",
       "       '17 years', '18 years', '19 years', '20 years'], dtype=object)"
      ]
     },
     "execution_count": 17,
     "metadata": {},
     "output_type": "execute_result"
    }
   ],
   "source": [
    "df['AgeuponOutcome'].unique()"
   ]
  },
  {
   "cell_type": "code",
   "execution_count": 18,
   "id": "d9314ede",
   "metadata": {},
   "outputs": [],
   "source": [
    "def age_determination(text):\n",
    "    split_parts = text.split(\" \")\n",
    "    \n",
    "    age = 0;\n",
    "\n",
    "    # Ensure there are at least two parts before trying to print\n",
    "    if len(split_parts) >= 2:\n",
    "        first_part = split_parts[0]\n",
    "        value = int(first_part)\n",
    "        second_part = split_parts[1]\n",
    "        \n",
    "        if second_part.lower() in ['years', 'year']:\n",
    "            age = value;\n",
    "        elif second_part.lower() in ['days','day']:\n",
    "            age = float(value/365)\n",
    "        elif second_part.lower() in ['weeks','week']: \n",
    "            age = float(value/52)\n",
    "        elif second_part.lower() in ['months','month']:\n",
    "            age = float(value/12)\n",
    "        else:\n",
    "            print('Error in age_determination function')\n",
    "            print(text)\n",
    "            \n",
    "\n",
    "        #print(\"First part:\", first_part)\n",
    "        #print(\"Second part:\", second_part)\n",
    "    else:\n",
    "        print(\"Text does not contain at least two parts.\")\n",
    "    return age\n",
    "    \n",
    "df['AgeuponOutcome'] = df['AgeuponOutcome'].apply(age_determination)        "
   ]
  },
  {
   "cell_type": "code",
   "execution_count": 19,
   "id": "f70dcccb",
   "metadata": {},
   "outputs": [
    {
     "data": {
      "text/plain": [
       "0        1.000000\n",
       "1        1.000000\n",
       "2        2.000000\n",
       "3        0.057692\n",
       "4        2.000000\n",
       "           ...   \n",
       "26724    0.083333\n",
       "26725    0.250000\n",
       "26726    4.000000\n",
       "26727    0.076923\n",
       "26728    1.000000\n",
       "Name: AgeuponOutcome, Length: 26729, dtype: float64"
      ]
     },
     "execution_count": 19,
     "metadata": {},
     "output_type": "execute_result"
    }
   ],
   "source": [
    "df['AgeuponOutcome']"
   ]
  },
  {
   "cell_type": "code",
   "execution_count": 20,
   "id": "e88f199a",
   "metadata": {},
   "outputs": [],
   "source": [
    "# Enumerize the string values in the 'age_of_pets' column\n",
    "mapping_dict = {value: index for index, value in enumerate(df['OutcomeType'].unique())}\n",
    "df['OutcomeType'] = df['OutcomeType'].map(mapping_dict)"
   ]
  },
  {
   "cell_type": "code",
   "execution_count": 21,
   "id": "8e9fa286",
   "metadata": {},
   "outputs": [],
   "source": [
    "# Enumerize the string values in the 'age_of_pets' column\n",
    "mapping_dict = {value: index for index, value in enumerate(df['OutcomeSubtype'].unique())}\n",
    "df['OutcomeSubtype'] = df['OutcomeSubtype'].map(mapping_dict)"
   ]
  },
  {
   "cell_type": "code",
   "execution_count": 22,
   "id": "9577b921",
   "metadata": {},
   "outputs": [],
   "source": [
    "#mapping_dict = {'cat': 0, 'dog': 1}\n",
    "#df['AnimalType'] = df['AnimalType'].map(mapping_dict)"
   ]
  },
  {
   "cell_type": "code",
   "execution_count": 23,
   "id": "7386fdcb",
   "metadata": {},
   "outputs": [],
   "source": [
    "#df['AnimalType'].unique()"
   ]
  },
  {
   "cell_type": "code",
   "execution_count": 24,
   "id": "255803ee",
   "metadata": {},
   "outputs": [
    {
     "data": {
      "text/plain": [
       "0        0\n",
       "1        1\n",
       "2        2\n",
       "3        3\n",
       "4        3\n",
       "        ..\n",
       "26724    3\n",
       "26725    3\n",
       "26726    2\n",
       "26727    3\n",
       "26728    3\n",
       "Name: OutcomeType, Length: 26729, dtype: int64"
      ]
     },
     "execution_count": 24,
     "metadata": {},
     "output_type": "execute_result"
    }
   ],
   "source": [
    "df['OutcomeType']"
   ]
  },
  {
   "cell_type": "code",
   "execution_count": 25,
   "id": "d33bcac7",
   "metadata": {},
   "outputs": [
    {
     "data": {
      "text/plain": [
       "array(['Dog', 'Cat'], dtype=object)"
      ]
     },
     "execution_count": 25,
     "metadata": {},
     "output_type": "execute_result"
    }
   ],
   "source": [
    "df['AnimalType'].unique()"
   ]
  },
  {
   "cell_type": "code",
   "execution_count": 26,
   "id": "1c419208",
   "metadata": {},
   "outputs": [
    {
     "name": "stdout",
     "output_type": "stream",
     "text": [
      "AnimalType: 2\n",
      "SexuponOutcome: 5\n",
      "Color: 366\n",
      "Breed: 1380\n"
     ]
    }
   ],
   "source": [
    "# Select columns with dtype 'object'\n",
    "object_columns = df.select_dtypes(include='object')\n",
    "# Count unique values in each selected column\n",
    "unique_counts = object_columns.apply(lambda col: col.nunique())\n",
    "# Sort the counts in ascending order\n",
    "sorted_counts = unique_counts.sort_values()\n",
    "# Print object name and value of unique counts line by line in ascending order\n",
    "for column_name, count in sorted_counts.items():\n",
    "    print(f\"{column_name}: {count}\")\n"
   ]
  },
  {
   "cell_type": "code",
   "execution_count": 27,
   "id": "cdcf36c9",
   "metadata": {},
   "outputs": [],
   "source": [
    "import re\n",
    "def custom_split(input_string):\n",
    "    # Check if the string contains both '/' and space\n",
    "    if '/' in input_string and ' ' in input_string:\n",
    "        # Split by both '/' and space\n",
    "        result = re.split(r'[/\\s]+', input_string)\n",
    "    elif '/' in input_string:\n",
    "        # Split only by '/'\n",
    "        result = input_string.split('/')\n",
    "    elif ' ' in input_string:\n",
    "        # Split only by space\n",
    "        result = input_string.split()\n",
    "    else:\n",
    "        # If there is only one word, leave it as is\n",
    "        result = [input_string]\n",
    "\n",
    "    return result\n",
    "\n",
    "# Apply the custom split function and extract the first word\n",
    "df['Color'] = df['Color'].apply(lambda x: custom_split(x)[0])"
   ]
  },
  {
   "cell_type": "code",
   "execution_count": 28,
   "id": "7ef13cbc",
   "metadata": {},
   "outputs": [],
   "source": [
    "# Apply the custom split function and extract the first two words\n",
    "df['Breed'] = df['Breed'].apply(lambda x: ' '.join(custom_split(x)[:2]))"
   ]
  },
  {
   "cell_type": "code",
   "execution_count": 29,
   "id": "c864370a",
   "metadata": {},
   "outputs": [
    {
     "name": "stdout",
     "output_type": "stream",
     "text": [
      "['Shetland Sheepdog' 'Domestic Shorthair' 'Pit Bull' 'Lhasa Apso'\n",
      " 'Cairn Terrier' 'American Pit' 'Miniature Schnauzer' 'Yorkshire Terrier'\n",
      " 'Great Pyrenees' 'Angora Mix' 'Flat Coat' 'Queensland Heeler'\n",
      " 'Plott Hound' 'German Shepherd' 'American Staffordshire'\n",
      " 'Chihuahua Shorthair' 'Russian Blue' 'Labrador Retriever' 'Collie Smooth'\n",
      " 'Domestic Longhair' 'Beagle' 'Blue Lacy' 'Black Mouth' 'Dachshund Beagle'\n",
      " 'Dachshund Mix' 'Maltese Mix' 'Pointer Mix' 'English Foxhound'\n",
      " 'Vizsla Mix' 'Cardigan Welsh' 'Chow Chow' 'Siamese Mix' 'Domestic Medium'\n",
      " 'Boxer Great' 'Beagle Treeing' 'Border Collie' 'Border Terrier'\n",
      " 'Boxer Mix' 'Dogo Argentino' 'Beagle Mix' 'Tibetan Terrier'\n",
      " 'Miniature Pinscher' 'Rat Terrier' 'Dachshund Longhair'\n",
      " 'Dachshund Chihuahua' 'Maltese' 'Dachshund Manchester' 'Siberian Husky'\n",
      " 'Australian Cattle' 'Catahoula Labrador' 'Miniature Poodle'\n",
      " 'Jack Russell' 'Catahoula Mix' 'Doberman Pinsch' 'Dachshund Jack'\n",
      " 'Whippet Mix' 'Australian Shepherd' 'English Pointer' 'Great Dane'\n",
      " 'Chesa Bay' 'Basset Hound' 'Airedale Terrier' 'Beagle German' 'Manx Mix'\n",
      " 'Cocker Spaniel' 'Chihuahua Longhair' 'Rottweiler Mix' 'Shih Tzu'\n",
      " 'Rottweiler Labrador' 'Dachshund' 'Pointer Labrador' 'Anatol Shepherd'\n",
      " 'Chinese Sharpei' 'Akita Pit' 'American Bulldog' 'Bernese Mountain'\n",
      " 'English Bulldog' 'Dachshund Catahoula' 'Dachshund Wirehair'\n",
      " 'Exotic Shorthair' 'Black Tan' 'Norfolk Terrier' 'Scottish Terrier'\n",
      " 'Boxer' 'Devon Rex' 'Treeing Walker' 'Rhod Ridgeback' 'Snowshoe Mix'\n",
      " 'Harrier' 'Australian Kelpie' 'Harrier Mix' 'Mexican Hairless'\n",
      " 'Redbone Hound' 'Afghan Hound' 'Swedish Vallhund' 'Papillon Border'\n",
      " 'West Highland' 'Boxer Australian' 'Shiba Inu' 'Beauceron Mix'\n",
      " 'Pekingese Mix' 'Catahoula Pit' 'Maine Coon' 'Schipperke Mix'\n",
      " 'Pointer Boxer' 'Burmese' 'Boxer Chow' 'Whippet Chihuahua'\n",
      " 'Catahoula Australian' 'Collie Rough' 'Staffordshire Mix' 'Silky Terrier'\n",
      " 'Bruss Griffon' 'Vizsla' 'Beagle Pug' 'Pug Beagle' 'Boerboel Mix'\n",
      " 'Golden Retriever' 'Bengal Mix' 'Bichon Frise' 'Pointer Collie'\n",
      " 'Manchester Terrier' 'English Setter' 'Pomeranian Mix' 'Boxer Pit'\n",
      " 'Greater Swiss' 'Dachshund Bull' 'American Shorthair' 'Bull Terrier'\n",
      " 'Pembroke Welsh' 'Toy Poodle' 'Bullmastiff Mix' 'Smooth Fox' 'Pug Mix'\n",
      " 'Beagle Labrador' 'Pekingese' 'Rottweiler Rhod' 'Old English'\n",
      " 'Ibizan Hound' 'Boston Terrier' 'Dachshund Whippet' 'Boxer Beagle'\n",
      " 'Brittany Labrador' 'Newfoundland Australian' 'Parson Russell'\n",
      " 'Dachshund Shih' 'Newfoundland Mix' 'Rottweiler' 'Carolina Dog'\n",
      " 'Mastiff Pit' 'St. Bernard' 'Staffordshire Boston' 'Maltese Miniature'\n",
      " 'German Shorthair' 'Basenji Chihuahua' 'Dachshund Rat' 'Beagle Basset'\n",
      " 'Bloodhound Mix' 'Affenpinscher Mix' 'Himalayan Mix' 'Akita Mix'\n",
      " 'Norwich Terrier' 'Greyhound Mix' 'Ragdoll Mix' 'Greyhound' 'Boykin Span'\n",
      " 'Papillon Chihuahua' 'Pointer Catahoula' 'Mastiff Mix' 'Pekingese Jack'\n",
      " 'Weimaraner Mix' 'Skye Terrier' 'Rottweiler German' 'Snowshoe Ragdoll'\n",
      " 'Schnauzer Giant' 'Dachshund Pit' 'Dachshund Parson' 'Alaskan Husky'\n",
      " 'Greyhound Dalmatian' 'Whippet Australian' 'Dachshund Harrier'\n",
      " 'Belgian Malinois' 'American Eskimo' 'Italian Greyhound' 'Weimaraner'\n",
      " 'Irish Wolfhound' 'Wire Hair' 'Catahoula Plott' 'Siamese' 'Landseer Mix'\n",
      " 'Bombay Mix' 'Catahoula Chow' 'Papillon Mix' 'Standard Schnauzer'\n",
      " 'English Springer' 'Alaskan Malamute' 'Whippet Shetland' 'French Bulldog'\n",
      " 'Persian Mix' 'Pug' 'Brittany Mix' 'Cavalier Span' 'Staffordshire'\n",
      " 'Siamese Domestic' 'Dachshund Australian' 'Akita' 'Soft Coated'\n",
      " 'Kuvasz Labrador' 'Boxer Pointer' 'American Foxhound' 'Pointer Border'\n",
      " 'Staffordshire English' 'Podengo Pequeno' 'Leonberger Mix' 'Basenji Mix'\n",
      " 'Bengal' 'English Shepherd' 'Cornish Rex' 'Pekingese Miniature'\n",
      " 'Standard Poodle' 'Dutch Shepherd' 'Dalmatian' 'Catahoula American'\n",
      " 'Balinese Mix' 'Dachshund English' 'Dalmatian Australian'\n",
      " 'Beagle Chihuahua' 'English Coonhound' 'Jindo Mix' 'Catahoula'\n",
      " 'Pomeranian Jack' 'Catahoula Alaskan' 'Welsh Terrier' 'Javanese Mix'\n",
      " 'Beagle Staffordshire' 'Dachshund Pembroke' 'Finnish Spitz'\n",
      " 'Boxer Catahoula' 'Field Spaniel' 'Keeshond Mix' 'Irish Setter'\n",
      " 'Pointer Blue' 'Beagle Australian' 'Picardy Sheepdog' 'Patterdale Terr'\n",
      " 'Dalmatian Mix' 'German Wirehaired' 'Vizsla Catahoula'\n",
      " 'Schipperke Chihuahua' 'Havanese Mix' 'British Shorthair' 'Pomeranian'\n",
      " 'Unknown Mix' 'Vizsla Staffordshire' 'Beagle Pointer' 'Pug Chihuahua'\n",
      " 'Beagle Dachshund' 'Boxer Staffordshire' 'Bulldog Mix' 'Pharaoh Hound'\n",
      " 'Weimaraner Labrador' 'Bearded Collie' 'Toy Fox' 'Canaan Dog'\n",
      " 'Irish Terrier' 'Catahoula Chinese' 'Whippet Jack' 'Boxer American'\n",
      " 'Treeing Tennesse' 'Vizsla Golden' 'Japanese Bobtail' 'Boxer English'\n",
      " 'Tibetan Spaniel' 'Catahoula Pointer' 'Dachshund Labrador' 'Maltese Shih'\n",
      " 'Basenji Chow' 'Pointer' 'Cane Corso' 'Havanese' 'Harrier Catahoula'\n",
      " 'Catahoula Cardigan' 'Pbgv Mix' 'Boxer Labrador' 'Glen Of'\n",
      " 'Australian Terrier' 'Pixiebob Shorthair' 'Presa Canario'\n",
      " 'Chinese Crested' 'Beagle Manchester' 'Staffordshire Beagle'\n",
      " 'Neapolitan Mastiff' 'Bedlington Terr' 'Pug Italian' 'Catahoula Black'\n",
      " 'Staffordshire Bull' 'Rottweiler Chow' 'Nova Scotia'\n",
      " 'Wirehaired Pointing' 'Feist Mix' 'Pointer Australian'\n",
      " 'Staffordshire Blue' 'Whippet Labrador' 'Bloodhound' 'Belgian Sheepdog'\n",
      " 'Pbgv' 'Akita Australian' 'Samoyed Mix' 'Otterhound Mix' 'Boxer Harrier'\n",
      " 'Maltese Yorkshire' 'Leonberger' 'Boxer Chinese' 'Tonkinese Mix'\n",
      " 'Welsh Springer' 'Entlebucher Mix' 'Pointer American' 'Beagle Cocker'\n",
      " 'Beagle Black' 'Weimaraner Pit' 'Boxer Redbone' 'Boxer Black'\n",
      " 'Pug Labrador' 'Pomeranian Schipperke' 'Pug Border' 'Dogue De'\n",
      " 'Pug Pomeranian' 'Pomeranian Chihuahua' 'Basenji Australian'\n",
      " 'Basenji Jack' 'Papillon Skye' 'Pointer Bull' 'Sphynx'\n",
      " 'Rottweiler Beagle' 'Manx Domestic' 'Bluetick Hound' 'Pug Staffordshire'\n",
      " 'Ocicat Mix' 'Beagle American' 'Sealyham Terr' 'Abyssinian Mix'\n",
      " 'Mastiff Boxer' 'Dachshund Basset' 'Munchkin Longhair'\n",
      " 'Dachshund Belgian' 'Whippet Dachshund' 'Harrier Pointer'\n",
      " 'Catahoula Staffordshire' 'Papillon Pomeranian' 'Japanese Chin'\n",
      " 'Akita Siberian' 'Beagle Boston' 'Staffordshire French'\n",
      " 'Catahoula Anatol' 'Himalayan' 'Catahoula German' 'Mastiff Rottweiler'\n",
      " 'Newfoundland Border' 'Catahoula Border' 'Maltese Toy'\n",
      " 'Pekingese Chihuahua' 'Akita Chow' 'Dachshund Pug' 'Saluki Labrador'\n",
      " 'Rottweiler Pit' 'Catahoula Great' 'Turkish Van' 'Whippet Beagle'\n",
      " 'Staffordshire Boxer' 'Pointer Queensland' 'Hovawart Mix'\n",
      " 'Dachshund Miniature' 'Catahoula Beagle' 'Norwegian Elkhound'\n",
      " 'Dachshund Bloodhound' 'Papillon' 'Beagle Standard' 'Dachshund German'\n",
      " 'Norwegian Forest' 'Siamese Japanese' 'Catahoula Bulldog' 'Saluki'\n",
      " 'Bullmastiff' 'Beagle Boxer' 'Beagle Queensland' 'Cymric Mix'\n",
      " 'German Pinscher' 'Bulldog Pit' 'Port Water' 'Mastiff Chinese'\n",
      " 'Treeing Cur' 'Beagle Cavalier' 'Brittany Chihuahua' 'Boxer Jack'\n",
      " 'Dalmatian Labrador' 'Greyhound Labrador' 'Beagle Jack' 'Pointer Pit'\n",
      " 'Boxer Boston' 'Saluki Mix' 'Beagle Chinese' 'Dachshund Yorkshire'\n",
      " 'Pug Pit' 'Manx' 'Whippet Miniature' 'Pekingese Lhasa' 'Bulldog'\n",
      " 'Dachshund Shetland' 'Brittany' 'Boxer Miniature' 'Pekingese Pug'\n",
      " 'Beagle Pit' 'Pointer Brittany' 'Snowshoe' 'Belgian Tervuren' 'Persian'\n",
      " 'Whippet Whippet' 'Pointer Rhod' 'Bulldog Boston' 'Mastiff Labrador'\n",
      " 'Boxer Akita' 'Maltese Cocker' 'Pug Schipperke' 'Dachshund Cardigan'\n",
      " 'Boerboel' 'Pug Pekingese' 'Beagle Rat' 'Pointer Harrier'\n",
      " 'Pekingese Dachshund' 'Newfoundland Labrador' 'Akita Labrador'\n",
      " 'Boxer Rhod' 'Maltese Border' 'Maltese Jack' 'Spanish Mastiff'\n",
      " 'Catahoula Rottweiler' 'Harrier Labrador' 'Dachshund Chinese'\n",
      " 'Boxer Bulldog' 'Greyhound Great' 'Newfoundland Queensland' 'Lowchen Mix'\n",
      " 'Pomeranian Border' 'Rottweiler Australian' 'Rottweiler Basset'\n",
      " 'Beagle Pembroke' 'Catahoula Boxer' 'Maltese Papillon'\n",
      " 'Staffordshire Labrador' 'Dachshund Cavalier' 'Catahoula Whippet'\n",
      " 'Dachshund Dachshund' 'Havana Brown' 'Maltese Dachshund'\n",
      " 'Bullmastiff Boxer' 'Pekingese Cavalier' 'Keeshond' 'Maltese Chihuahua'\n",
      " 'Akita German' 'Pointer Chinese' 'Dachshund Havanese' 'Pointer Jack'\n",
      " 'Dachshund American' 'Swiss Hound' 'Ragdoll' 'Newfoundland Great'\n",
      " 'Pointer Anatol' 'Dachshund Greyhound' 'Beagle Whippet' 'Boxer Mastiff'\n",
      " 'Pointer Staffordshire' 'Papillon Australian' 'Vizsla Rhod'\n",
      " 'English Cocker' 'Whippet Borzoi' 'Spinone Italiano' 'Dalmatian Boxer'\n",
      " 'Beauceron' 'Boxer Neapolitan' 'Vizsla Boxer' 'Boxer German']\n"
     ]
    }
   ],
   "source": [
    "breeds_array= df['Breed'].unique()\n",
    "print(breeds_array)"
   ]
  },
  {
   "cell_type": "markdown",
   "id": "d648406a",
   "metadata": {},
   "source": [
    "## MODELING"
   ]
  },
  {
   "cell_type": "code",
   "execution_count": 30,
   "id": "6435eb83",
   "metadata": {},
   "outputs": [],
   "source": [
    "y = df['OutcomeType']\n",
    "x = df.drop('OutcomeType', axis=1, inplace = False)\n",
    "x=pd.get_dummies(x,drop_first=True)"
   ]
  },
  {
   "cell_type": "code",
   "execution_count": 31,
   "id": "1973a389",
   "metadata": {},
   "outputs": [
    {
     "data": {
      "text/plain": [
       "((26729, 516), (26729,))"
      ]
     },
     "execution_count": 31,
     "metadata": {},
     "output_type": "execute_result"
    }
   ],
   "source": [
    "x.shape, y.shape"
   ]
  },
  {
   "cell_type": "code",
   "execution_count": 32,
   "id": "bef03767",
   "metadata": {},
   "outputs": [
    {
     "name": "stdout",
     "output_type": "stream",
     "text": [
      "<class 'pandas.core.frame.DataFrame'>\n",
      "RangeIndex: 26729 entries, 0 to 26728\n",
      "Data columns (total 8 columns):\n",
      " #   Column          Non-Null Count  Dtype  \n",
      "---  ------          --------------  -----  \n",
      " 0   Name            26729 non-null  int64  \n",
      " 1   OutcomeType     26729 non-null  int64  \n",
      " 2   OutcomeSubtype  26729 non-null  int64  \n",
      " 3   AnimalType      26729 non-null  object \n",
      " 4   SexuponOutcome  26729 non-null  object \n",
      " 5   AgeuponOutcome  26729 non-null  float64\n",
      " 6   Breed           26729 non-null  object \n",
      " 7   Color           26729 non-null  object \n",
      "dtypes: float64(1), int64(3), object(4)\n",
      "memory usage: 1.6+ MB\n"
     ]
    }
   ],
   "source": [
    "df.info()"
   ]
  },
  {
   "cell_type": "code",
   "execution_count": 33,
   "id": "dd69253e",
   "metadata": {},
   "outputs": [],
   "source": [
    "def algo_test(x,y):\n",
    "#def algo_test(x_train,x_test,y_train,y_test):\n",
    "    \n",
    "    import numpy as np\n",
    "\n",
    "    from scipy import stats\n",
    "    import matplotlib.pyplot as plt\n",
    "    %matplotlib inline \n",
    "    import seaborn as sns\n",
    "\n",
    "\n",
    "    from sklearn.metrics import r2_score, mean_squared_error, mean_absolute_error\n",
    "    from sklearn.linear_model import LinearRegression, ElasticNet, Ridge, Lasso\n",
    "    from sklearn.tree import ExtraTreeClassifier\n",
    "    from sklearn.ensemble import GradientBoostingRegressor\n",
    "    from xgboost import XGBRegressor \n",
    "\n",
    "    from sklearn.model_selection import train_test_split\n",
    "\n",
    "    from sklearn.model_selection import train_test_split\n",
    "    from sklearn.metrics import accuracy_score, confusion_matrix, classification_report\n",
    "    from sklearn.naive_bayes import GaussianNB\n",
    "    from sklearn.naive_bayes import BernoulliNB\n",
    "    from sklearn.neighbors import KNeighborsClassifier\n",
    "    from sklearn.linear_model import LogisticRegression\n",
    "    from sklearn.tree import DecisionTreeClassifier\n",
    "    from sklearn.ensemble import RandomForestClassifier\n",
    "    from sklearn.ensemble import ExtraTreesClassifier\n",
    "    from xgboost import XGBClassifier\n",
    "\n",
    "    import warnings\n",
    "    warnings.filterwarnings('ignore')\n",
    "#plt.style.use('')\n",
    "\n",
    "    \n",
    "    \n",
    "    G = GaussianNB()\n",
    "    B = BernoulliNB()\n",
    "    #K = KNeighborsClassifier()\n",
    "    L = LogisticRegression()\n",
    "    D = DecisionTreeClassifier()\n",
    "    RF = RandomForestClassifier()\n",
    "    ETC = ExtraTreesClassifier()\n",
    "    XG = XGBClassifier()\n",
    "\n",
    "    \n",
    "    x_train, x_test, y_train, y_test = train_test_split(x,y,test_size = 0.2,random_state = 13)\n",
    "    \n",
    "    algos = [G,B,L,D, RF, ETC, XG]\n",
    "    #algos = [G,B,L,D,  RF, ETC]\n",
    "    \n",
    "    #algo_names = [ \"Gaussian\", \"Bernoulli\", \"K-Neighbors\", \"Logistic Regression\", \"Decision Tree\", \"Random Forest\", \"ExtraTreeClassifier\" ]\n",
    "    algo_names = [ \"Gaussian\", \"Bernoulli\",\"Logistic Regression\", \"Decision Tree\", \\\n",
    "                  \"Random Forest\", \"ExtraTreeClassifier\",\"XGBClassifier\" ]\n",
    "    \n",
    "    ASC = [];\n",
    "    \n",
    "    result =  result = pd.DataFrame(columns =['Accuracy_Score'], index = algo_names)\n",
    "    \n",
    "    i = 0;\n",
    "    for algo in algos :\n",
    "        \n",
    "        algo.fit(x_train,y_train)\n",
    "        #print (accuracy_score(  y_test, algo.predict(x_test) ))\n",
    "        ASC.append(  accuracy_score(  y_test, algo.predict(x_test) ) )\n",
    "        \n",
    "        print( \"Confusion matrix: \",format(algo_names[i]) )\n",
    "        i = i+1;\n",
    "        print ( confusion_matrix(algo.predict(x_test),y_test) )\n",
    "        #print (classification_report(y_test,algo.predict(x_test) ))\n",
    "        \n",
    "        #algo.fit(x,y)\n",
    "        #print (accuracy_score(  y, algo.predict(x) ))\n",
    "        #ASC.append(  accuracy_score(  y, algo.predict(x) ) )\n",
    "    \n",
    "    \n",
    "    result.Accuracy_Score = ASC;\n",
    "\n",
    "    return result.sort_values('Accuracy_Score', ascending=False)"
   ]
  },
  {
   "cell_type": "code",
   "execution_count": 34,
   "id": "9ce034c8",
   "metadata": {},
   "outputs": [
    {
     "name": "stdout",
     "output_type": "stream",
     "text": [
      "Confusion matrix:  Gaussian\n",
      "[[  66    0   78    1    0]\n",
      " [ 337   53  555  346    5]\n",
      " [  14    4   33   23    0]\n",
      " [  10    3   38   40    1]\n",
      " [ 544  238 1407 1519   31]]\n",
      "Confusion matrix:  Bernoulli\n",
      "[[ 685    0  629    1    1]\n",
      " [   0    9    0   27    0]\n",
      " [ 285   72 1239  384    6]\n",
      " [   1  217  243 1517   30]\n",
      " [   0    0    0    0    0]]\n",
      "Confusion matrix:  Logistic Regression\n",
      "[[ 494    0  186    1    0]\n",
      " [   1   56    6   32    0]\n",
      " [ 475   41 1859    6    4]\n",
      " [   1  199   60 1890    4]\n",
      " [   0    2    0    0   29]]\n",
      "Confusion matrix:  Decision Tree\n",
      "[[ 550    0  355    1    2]\n",
      " [   0  297    0    0    0]\n",
      " [ 419    1 1756    1    1]\n",
      " [   1    0    0 1927    0]\n",
      " [   1    0    0    0   34]]\n",
      "Confusion matrix:  Random Forest\n",
      "[[ 525    4  291    1    2]\n",
      " [   1  269    2    0    3]\n",
      " [ 443   20 1806    1    2]\n",
      " [   1    4   12 1927   17]\n",
      " [   1    1    0    0   13]]\n",
      "Confusion matrix:  ExtraTreeClassifier\n",
      "[[ 553   14  341    1    2]\n",
      " [   2  244    5    1    4]\n",
      " [ 413   26 1743   16    1]\n",
      " [   3   14   22 1911   10]\n",
      " [   0    0    0    0   20]]\n",
      "Confusion matrix:  XGBClassifier\n",
      "[[ 557    0  245    1    3]\n",
      " [   0  297    0    0    0]\n",
      " [ 413    1 1866    1    1]\n",
      " [   1    0    0 1927    0]\n",
      " [   0    0    0    0   33]]\n"
     ]
    },
    {
     "data": {
      "text/html": [
       "<div>\n",
       "<style scoped>\n",
       "    .dataframe tbody tr th:only-of-type {\n",
       "        vertical-align: middle;\n",
       "    }\n",
       "\n",
       "    .dataframe tbody tr th {\n",
       "        vertical-align: top;\n",
       "    }\n",
       "\n",
       "    .dataframe thead th {\n",
       "        text-align: right;\n",
       "    }\n",
       "</style>\n",
       "<table border=\"1\" class=\"dataframe\">\n",
       "  <thead>\n",
       "    <tr style=\"text-align: right;\">\n",
       "      <th></th>\n",
       "      <th>Accuracy_Score</th>\n",
       "    </tr>\n",
       "  </thead>\n",
       "  <tbody>\n",
       "    <tr>\n",
       "      <th>XGBClassifier</th>\n",
       "      <td>0.875421</td>\n",
       "    </tr>\n",
       "    <tr>\n",
       "      <th>Decision Tree</th>\n",
       "      <td>0.853722</td>\n",
       "    </tr>\n",
       "    <tr>\n",
       "      <th>Random Forest</th>\n",
       "      <td>0.849233</td>\n",
       "    </tr>\n",
       "    <tr>\n",
       "      <th>ExtraTreeClassifier</th>\n",
       "      <td>0.836326</td>\n",
       "    </tr>\n",
       "    <tr>\n",
       "      <th>Logistic Regression</th>\n",
       "      <td>0.809577</td>\n",
       "    </tr>\n",
       "    <tr>\n",
       "      <th>Bernoulli</th>\n",
       "      <td>0.645342</td>\n",
       "    </tr>\n",
       "    <tr>\n",
       "      <th>Gaussian</th>\n",
       "      <td>0.041713</td>\n",
       "    </tr>\n",
       "  </tbody>\n",
       "</table>\n",
       "</div>"
      ],
      "text/plain": [
       "                     Accuracy_Score\n",
       "XGBClassifier              0.875421\n",
       "Decision Tree              0.853722\n",
       "Random Forest              0.849233\n",
       "ExtraTreeClassifier        0.836326\n",
       "Logistic Regression        0.809577\n",
       "Bernoulli                  0.645342\n",
       "Gaussian                   0.041713"
      ]
     },
     "execution_count": 34,
     "metadata": {},
     "output_type": "execute_result"
    }
   ],
   "source": [
    "algo_test(x,y)"
   ]
  },
  {
   "cell_type": "code",
   "execution_count": null,
   "id": "1fc8b7ad",
   "metadata": {},
   "outputs": [],
   "source": []
  }
 ],
 "metadata": {
  "kernelspec": {
   "display_name": "Python 3 (ipykernel)",
   "language": "python",
   "name": "python3"
  },
  "language_info": {
   "codemirror_mode": {
    "name": "ipython",
    "version": 3
   },
   "file_extension": ".py",
   "mimetype": "text/x-python",
   "name": "python",
   "nbconvert_exporter": "python",
   "pygments_lexer": "ipython3",
   "version": "3.11.5"
  }
 },
 "nbformat": 4,
 "nbformat_minor": 5
}
